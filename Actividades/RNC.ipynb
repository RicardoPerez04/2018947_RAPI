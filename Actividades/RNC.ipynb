{
  "cells": [
    {
      "cell_type": "markdown",
      "metadata": {
        "id": "view-in-github",
        "colab_type": "text"
      },
      "source": [
        "<a href=\"https://colab.research.google.com/github/RicardoPerez04/2018947_RAPI/blob/main/Actividades/RNC.ipynb\" target=\"_parent\"><img src=\"https://colab.research.google.com/assets/colab-badge.svg\" alt=\"Open In Colab\"/></a>"
      ]
    },
    {
      "cell_type": "code",
      "execution_count": 1,
      "metadata": {
        "id": "4dK6PIx8ljZn"
      },
      "outputs": [],
      "source": [
        "#Actividad 6: Redes neuronales. Ricardo Abraham Pérez Ibarra. Matrícula: 2018947. Hora: N4"
      ]
    },
    {
      "cell_type": "code",
      "execution_count": 2,
      "metadata": {
        "id": "xtnFnVGOELsh"
      },
      "outputs": [],
      "source": [
        "#Librerias\n",
        "import matplotlib.pyplot as plt\n",
        "import tensorflow as tf\n",
        "from tensorflow.keras import datasets, layers, models"
      ]
    },
    {
      "cell_type": "code",
      "execution_count": 3,
      "metadata": {
        "colab": {
          "base_uri": "https://localhost:8080/"
        },
        "id": "dHyvPVYfOwNt",
        "outputId": "bf6f4ade-9a6f-424f-ad42-94965849a8df"
      },
      "outputs": [
        {
          "output_type": "stream",
          "name": "stdout",
          "text": [
            "Downloading data from https://storage.googleapis.com/tensorflow/tf-keras-datasets/mnist.npz\n",
            "11490434/11490434 [==============================] - 1s 0us/step\n"
          ]
        },
        {
          "output_type": "execute_result",
          "data": {
            "text/plain": [
              "((array([[[0, 0, 0, ..., 0, 0, 0],\n",
              "          [0, 0, 0, ..., 0, 0, 0],\n",
              "          [0, 0, 0, ..., 0, 0, 0],\n",
              "          ...,\n",
              "          [0, 0, 0, ..., 0, 0, 0],\n",
              "          [0, 0, 0, ..., 0, 0, 0],\n",
              "          [0, 0, 0, ..., 0, 0, 0]],\n",
              "  \n",
              "         [[0, 0, 0, ..., 0, 0, 0],\n",
              "          [0, 0, 0, ..., 0, 0, 0],\n",
              "          [0, 0, 0, ..., 0, 0, 0],\n",
              "          ...,\n",
              "          [0, 0, 0, ..., 0, 0, 0],\n",
              "          [0, 0, 0, ..., 0, 0, 0],\n",
              "          [0, 0, 0, ..., 0, 0, 0]],\n",
              "  \n",
              "         [[0, 0, 0, ..., 0, 0, 0],\n",
              "          [0, 0, 0, ..., 0, 0, 0],\n",
              "          [0, 0, 0, ..., 0, 0, 0],\n",
              "          ...,\n",
              "          [0, 0, 0, ..., 0, 0, 0],\n",
              "          [0, 0, 0, ..., 0, 0, 0],\n",
              "          [0, 0, 0, ..., 0, 0, 0]],\n",
              "  \n",
              "         ...,\n",
              "  \n",
              "         [[0, 0, 0, ..., 0, 0, 0],\n",
              "          [0, 0, 0, ..., 0, 0, 0],\n",
              "          [0, 0, 0, ..., 0, 0, 0],\n",
              "          ...,\n",
              "          [0, 0, 0, ..., 0, 0, 0],\n",
              "          [0, 0, 0, ..., 0, 0, 0],\n",
              "          [0, 0, 0, ..., 0, 0, 0]],\n",
              "  \n",
              "         [[0, 0, 0, ..., 0, 0, 0],\n",
              "          [0, 0, 0, ..., 0, 0, 0],\n",
              "          [0, 0, 0, ..., 0, 0, 0],\n",
              "          ...,\n",
              "          [0, 0, 0, ..., 0, 0, 0],\n",
              "          [0, 0, 0, ..., 0, 0, 0],\n",
              "          [0, 0, 0, ..., 0, 0, 0]],\n",
              "  \n",
              "         [[0, 0, 0, ..., 0, 0, 0],\n",
              "          [0, 0, 0, ..., 0, 0, 0],\n",
              "          [0, 0, 0, ..., 0, 0, 0],\n",
              "          ...,\n",
              "          [0, 0, 0, ..., 0, 0, 0],\n",
              "          [0, 0, 0, ..., 0, 0, 0],\n",
              "          [0, 0, 0, ..., 0, 0, 0]]], dtype=uint8),\n",
              "  array([5, 0, 4, ..., 5, 6, 8], dtype=uint8)),\n",
              " (array([[[0, 0, 0, ..., 0, 0, 0],\n",
              "          [0, 0, 0, ..., 0, 0, 0],\n",
              "          [0, 0, 0, ..., 0, 0, 0],\n",
              "          ...,\n",
              "          [0, 0, 0, ..., 0, 0, 0],\n",
              "          [0, 0, 0, ..., 0, 0, 0],\n",
              "          [0, 0, 0, ..., 0, 0, 0]],\n",
              "  \n",
              "         [[0, 0, 0, ..., 0, 0, 0],\n",
              "          [0, 0, 0, ..., 0, 0, 0],\n",
              "          [0, 0, 0, ..., 0, 0, 0],\n",
              "          ...,\n",
              "          [0, 0, 0, ..., 0, 0, 0],\n",
              "          [0, 0, 0, ..., 0, 0, 0],\n",
              "          [0, 0, 0, ..., 0, 0, 0]],\n",
              "  \n",
              "         [[0, 0, 0, ..., 0, 0, 0],\n",
              "          [0, 0, 0, ..., 0, 0, 0],\n",
              "          [0, 0, 0, ..., 0, 0, 0],\n",
              "          ...,\n",
              "          [0, 0, 0, ..., 0, 0, 0],\n",
              "          [0, 0, 0, ..., 0, 0, 0],\n",
              "          [0, 0, 0, ..., 0, 0, 0]],\n",
              "  \n",
              "         ...,\n",
              "  \n",
              "         [[0, 0, 0, ..., 0, 0, 0],\n",
              "          [0, 0, 0, ..., 0, 0, 0],\n",
              "          [0, 0, 0, ..., 0, 0, 0],\n",
              "          ...,\n",
              "          [0, 0, 0, ..., 0, 0, 0],\n",
              "          [0, 0, 0, ..., 0, 0, 0],\n",
              "          [0, 0, 0, ..., 0, 0, 0]],\n",
              "  \n",
              "         [[0, 0, 0, ..., 0, 0, 0],\n",
              "          [0, 0, 0, ..., 0, 0, 0],\n",
              "          [0, 0, 0, ..., 0, 0, 0],\n",
              "          ...,\n",
              "          [0, 0, 0, ..., 0, 0, 0],\n",
              "          [0, 0, 0, ..., 0, 0, 0],\n",
              "          [0, 0, 0, ..., 0, 0, 0]],\n",
              "  \n",
              "         [[0, 0, 0, ..., 0, 0, 0],\n",
              "          [0, 0, 0, ..., 0, 0, 0],\n",
              "          [0, 0, 0, ..., 0, 0, 0],\n",
              "          ...,\n",
              "          [0, 0, 0, ..., 0, 0, 0],\n",
              "          [0, 0, 0, ..., 0, 0, 0],\n",
              "          [0, 0, 0, ..., 0, 0, 0]]], dtype=uint8),\n",
              "  array([7, 2, 1, ..., 4, 5, 6], dtype=uint8)))"
            ]
          },
          "metadata": {},
          "execution_count": 3
        }
      ],
      "source": [
        "#Cargar datos\n",
        "tf.keras.datasets.mnist.load_data(path=\"mnist.npz\")"
      ]
    },
    {
      "cell_type": "code",
      "source": [
        "(x_train, y_train), (x_test, y_test) = tf.keras.datasets.mnist.load_data()\n",
        "assert x_train.shape == (60000, 28, 28)\n",
        "assert x_test.shape == (10000, 28, 28)\n",
        "assert y_train.shape == (60000,)\n",
        "assert y_test.shape == (10000,)"
      ],
      "metadata": {
        "id": "MLyjmZgkCsSo"
      },
      "execution_count": 4,
      "outputs": []
    },
    {
      "cell_type": "code",
      "source": [
        "x_train = x_train / 255.0\n",
        "x_test = x_test / 255.0"
      ],
      "metadata": {
        "id": "1g0M_zxgKPeF"
      },
      "execution_count": 5,
      "outputs": []
    },
    {
      "cell_type": "code",
      "source": [
        "model = models.Sequential()\n",
        "model.add(layers.Conv2D(32, (3, 3), activation='relu', input_shape=(28, 28, 1)))\n",
        "model.add(layers.MaxPooling2D((2, 2)))\n",
        "model.add(layers.Conv2D(64, (3, 3), activation='relu'))\n",
        "model.add(layers.MaxPooling2D((2, 2)))\n",
        "model.add(layers.Conv2D(64, (3, 3), activation='relu'))"
      ],
      "metadata": {
        "id": "RmxdqWSCMl1f"
      },
      "execution_count": 6,
      "outputs": []
    },
    {
      "cell_type": "code",
      "source": [
        "model.add(layers.Flatten())\n",
        "model.add(layers.Dense(64, activation='relu'))\n",
        "model.add(layers.Dense(10, activation = 'softmax'))"
      ],
      "metadata": {
        "id": "PDqa_ZbHLSjx"
      },
      "execution_count": 7,
      "outputs": []
    },
    {
      "cell_type": "code",
      "source": [
        "model.compile(optimizer='adam',\n",
        "              loss=tf.keras.losses.SparseCategoricalCrossentropy(from_logits=True),\n",
        "              metrics=['accuracy'])"
      ],
      "metadata": {
        "id": "QbU7A00mNXRD"
      },
      "execution_count": 8,
      "outputs": []
    },
    {
      "cell_type": "code",
      "source": [
        "history=model.fit(x_train, y_train, epochs=10, batch_size=32, validation_split=0.2)"
      ],
      "metadata": {
        "colab": {
          "base_uri": "https://localhost:8080/"
        },
        "id": "VkjrOPfxNlKw",
        "outputId": "8f9f21b1-4add-4beb-a4ea-6e8812bb9050"
      },
      "execution_count": 9,
      "outputs": [
        {
          "metadata": {
            "tags": null
          },
          "name": "stdout",
          "output_type": "stream",
          "text": [
            "Epoch 1/10\n"
          ]
        },
        {
          "metadata": {
            "tags": null
          },
          "name": "stderr",
          "output_type": "stream",
          "text": [
            "/usr/local/lib/python3.10/dist-packages/keras/src/backend.py:5727: UserWarning: \"`sparse_categorical_crossentropy` received `from_logits=True`, but the `output` argument was produced by a Softmax activation and thus does not represent logits. Was this intended?\n",
            "  output, from_logits = _get_logits(\n"
          ]
        },
        {
          "output_type": "stream",
          "name": "stdout",
          "text": [
            "1500/1500 [==============================] - 44s 27ms/step - loss: 0.1664 - accuracy: 0.9488 - val_loss: 0.0725 - val_accuracy: 0.9793\n",
            "Epoch 2/10\n",
            "1500/1500 [==============================] - 40s 27ms/step - loss: 0.0512 - accuracy: 0.9837 - val_loss: 0.0429 - val_accuracy: 0.9870\n",
            "Epoch 3/10\n",
            "1500/1500 [==============================] - 41s 27ms/step - loss: 0.0367 - accuracy: 0.9888 - val_loss: 0.0384 - val_accuracy: 0.9896\n",
            "Epoch 4/10\n",
            "1500/1500 [==============================] - 42s 28ms/step - loss: 0.0288 - accuracy: 0.9904 - val_loss: 0.0459 - val_accuracy: 0.9871\n",
            "Epoch 5/10\n",
            "1500/1500 [==============================] - 40s 27ms/step - loss: 0.0211 - accuracy: 0.9934 - val_loss: 0.0384 - val_accuracy: 0.9892\n",
            "Epoch 6/10\n",
            "1500/1500 [==============================] - 43s 28ms/step - loss: 0.0173 - accuracy: 0.9944 - val_loss: 0.0399 - val_accuracy: 0.9892\n",
            "Epoch 7/10\n",
            "1500/1500 [==============================] - 41s 27ms/step - loss: 0.0142 - accuracy: 0.9953 - val_loss: 0.0415 - val_accuracy: 0.9898\n",
            "Epoch 8/10\n",
            "1500/1500 [==============================] - 40s 27ms/step - loss: 0.0123 - accuracy: 0.9959 - val_loss: 0.0405 - val_accuracy: 0.9911\n",
            "Epoch 9/10\n",
            "1500/1500 [==============================] - 41s 28ms/step - loss: 0.0102 - accuracy: 0.9967 - val_loss: 0.0414 - val_accuracy: 0.9900\n",
            "Epoch 10/10\n",
            "1500/1500 [==============================] - 40s 27ms/step - loss: 0.0097 - accuracy: 0.9966 - val_loss: 0.0422 - val_accuracy: 0.9915\n"
          ]
        }
      ]
    },
    {
      "cell_type": "code",
      "source": [
        "plt.plot(history.history['accuracy'], label='accuracy')\n",
        "plt.plot(history.history['val_accuracy'], label = 'val_accuracy')\n",
        "plt.xlabel('Epoch')\n",
        "plt.ylabel('Accuracy')\n",
        "plt.ylim([0.4, 1])\n",
        "plt.xlim([-1, 11])\n",
        "plt.legend(loc='lower right')\n",
        "\n",
        "test_loss, test_acc = model.evaluate(x_test,  y_test, verbose=2)"
      ],
      "metadata": {
        "colab": {
          "base_uri": "https://localhost:8080/",
          "height": 472
        },
        "id": "0I1HxyUTNnMs",
        "outputId": "4ab30760-180b-4326-a82f-d60d92269676"
      },
      "execution_count": 10,
      "outputs": [
        {
          "output_type": "stream",
          "name": "stdout",
          "text": [
            "313/313 - 5s - loss: 0.0376 - accuracy: 0.9909 - 5s/epoch - 16ms/step\n"
          ]
        },
        {
          "output_type": "display_data",
          "data": {
            "text/plain": [
              "<Figure size 640x480 with 1 Axes>"
            ],
            "image/png": "[encoded data removed]"
          },
          "metadata": {}
        }
      ]
    },
    {
      "cell_type": "code",
      "source": [
        "predictions = model.predict(x_test)\n"
      ],
      "metadata": {
        "colab": {
          "base_uri": "https://localhost:8080/"
        },
        "id": "yYug7JnaPVJQ",
        "outputId": "32321641-aa22-4cc8-d8fc-48f5152b8499"
      },
      "execution_count": 11,
      "outputs": [
        {
          "output_type": "stream",
          "name": "stdout",
          "text": [
            "313/313 [==============================] - 2s 7ms/step\n"
          ]
        }
      ]
    },
    {
      "cell_type": "code",
      "source": [
        "x = predictions[1]\n",
        "y = y_test[1]\n",
        "print(\"La red dice que la imagen es clase \" , x , \"y la clase verdadera es: \" , y)"
      ],
      "metadata": {
        "colab": {
          "base_uri": "https://localhost:8080/"
        },
        "id": "3mNNJHpXQdvH",
        "outputId": "b2af5ae5-25ac-4e66-ec24-287b0d9ca8cd"
      },
      "execution_count": 12,
      "outputs": [
        {
          "output_type": "stream",
          "name": "stdout",
          "text": [
            "La red dice que la imagen es clase  [1.2318113e-09 2.1392366e-10 9.9999994e-01 3.2159922e-16 3.6298093e-16\n",
            " 1.3561989e-18 8.6653727e-17 1.8409378e-15 1.9147087e-17 5.1899819e-19] y la clase verdadera es:  2\n"
          ]
        }
      ]
    },
    {
      "cell_type": "code",
      "source": [
        "x = predictions[50]\n",
        "y = y_test[50]\n",
        "print(\"La red dice que la imagen es clase \" , x , \"y la clase verdadera es: \" , y)"
      ],
      "metadata": {
        "colab": {
          "base_uri": "https://localhost:8080/"
        },
        "id": "iAcur4NQQ0FY",
        "outputId": "576d5e6d-18a8-4bdd-efa1-38943f28e32f"
      },
      "execution_count": 13,
      "outputs": [
        {
          "output_type": "stream",
          "name": "stdout",
          "text": [
            "La red dice que la imagen es clase  [1.0236056e-09 2.4392261e-12 9.3927734e-14 2.0203195e-12 9.5139495e-12\n",
            " 5.2273663e-07 9.9999946e-01 1.1870027e-16 1.0620513e-09 2.5363600e-12] y la clase verdadera es:  6\n"
          ]
        }
      ]
    },
    {
      "cell_type": "code",
      "source": [
        "x = predictions[100]\n",
        "y = y_test[100]\n",
        "print(\"La red dice que la imagen es clase \" , x , \"y la clase verdadera es: \" , y)"
      ],
      "metadata": {
        "colab": {
          "base_uri": "https://localhost:8080/"
        },
        "id": "40ur-lMdRC3E",
        "outputId": "b0f4cb27-ae54-4f05-ed5e-70a6f88c8442"
      },
      "execution_count": 14,
      "outputs": [
        {
          "output_type": "stream",
          "name": "stdout",
          "text": [
            "La red dice que la imagen es clase  [1.1362773e-10 1.7855831e-11 6.4998617e-19 2.5553694e-15 1.3041169e-12\n",
            " 1.1346327e-06 9.9999875e-01 2.6501990e-15 5.3926613e-10 4.3127248e-14] y la clase verdadera es:  6\n"
          ]
        }
      ]
    },
    {
      "cell_type": "code",
      "source": [
        "x = predictions[1000]\n",
        "y = y_test[1000]\n",
        "print(\"La red dice que la imagen es clase \" , x , \"y la clase verdadera es: \" , y)"
      ],
      "metadata": {
        "colab": {
          "base_uri": "https://localhost:8080/"
        },
        "id": "qJVrnA0GRG_5",
        "outputId": "199f6324-f7ef-4f34-f3d4-a867cdd2a0ee"
      },
      "execution_count": 15,
      "outputs": [
        {
          "output_type": "stream",
          "name": "stdout",
          "text": [
            "La red dice que la imagen es clase  [2.3953192e-14 2.2959104e-14 9.5158985e-15 2.5284758e-10 1.1220114e-09\n",
            " 2.4289415e-10 4.5028068e-20 1.7713325e-10 6.9693249e-12 9.9999994e-01] y la clase verdadera es:  9\n"
          ]
        }
      ]
    },
    {
      "cell_type": "code",
      "source": [
        "x = predictions[1500]\n",
        "y = y_test[1500]\n",
        "print(\"La red dice que la imagen es clase \" , x , \"y la clase verdadera es: \" , y)"
      ],
      "metadata": {
        "id": "MTREBvHRRK-H",
        "outputId": "91e12045-ba04-45cb-f437-3424d7f8dc99",
        "colab": {
          "base_uri": "https://localhost:8080/"
        }
      },
      "execution_count": 16,
      "outputs": [
        {
          "output_type": "stream",
          "name": "stdout",
          "text": [
            "La red dice que la imagen es clase  [9.5768519e-07 1.1398850e-01 9.7547369e-03 2.8675045e-03 4.1541239e-06\n",
            " 1.1045034e-07 7.3140806e-11 8.6864918e-01 6.3197189e-07 4.7341203e-03] y la clase verdadera es:  7\n"
          ]
        }
      ]
    },
    {
      "cell_type": "markdown",
      "source": [
        "**¿Cuántas épocas usaste para mejorar el rendimiento del modelo en comparación con la red neuronal prealimentada de la actividad 5?**\n",
        "\n",
        "Use 10 epocas, las mismas que en la actividad pasada, sin embargo tuve un mucho mejor resultado"
      ],
      "metadata": {
        "id": "2Fl_S-eeQSOY"
      }
    },
    {
      "cell_type": "markdown",
      "source": [
        "**¿Obtuviste un mejor rendimiento con este modelo o con el de la actividad 5? ¿Por qué?**\n",
        "\n",
        "Sí, debido a que el proceso de convolucion fue de mucha ayuda para podernos acercar mas rapido a la efectividad del 100%"
      ],
      "metadata": {
        "id": "msaPrVNJRsDo"
      }
    }
  ],
  "metadata": {
    "colab": {
      "provenance": [],
      "include_colab_link": true
    },
    "kernelspec": {
      "display_name": "Python 3",
      "name": "python3"
    },
    "language_info": {
      "name": "python"
    }
  },
  "nbformat": 4,
  "nbformat_minor": 0
}