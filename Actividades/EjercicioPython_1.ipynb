{
  "nbformat": 4,
  "nbformat_minor": 0,
  "metadata": {
    "colab": {
      "provenance": [],
      "authorship_tag": "ABX9TyPOGCVt8HZsMWasuxDhiS1L",
      "include_colab_link": true
    },
    "kernelspec": {
      "name": "python3",
      "display_name": "Python 3"
    },
    "language_info": {
      "name": "python"
    }
  },
  "cells": [
    {
      "cell_type": "markdown",
      "metadata": {
        "id": "view-in-github",
        "colab_type": "text"
      },
      "source": [
        "<a href=\"https://colab.research.google.com/github/RicardoPerez04/2018947_RAPI/blob/main/Actividades/EjercicioPython_1.ipynb\" target=\"_parent\"><img src=\"https://colab.research.google.com/assets/colab-badge.svg\" alt=\"Open In Colab\"/></a>"
      ]
    },
    {
      "cell_type": "code",
      "execution_count": null,
      "metadata": {
        "id": "j2aVGoCblxMO"
      },
      "outputs": [],
      "source": [
        "#EjercicioPython_1\n",
        "#Ricardo Abraham Pérez Ibarra\n",
        "#2018947\n",
        "#N4"
      ]
    },
    {
      "cell_type": "code",
      "source": [
        "#1.- Desarrolla un algoritmo que le pida al usuario por su nombre y que lo salude con su nombre, excepto si se llama “Ana”, “Juan”, y “Pedro”.\n",
        "nombre= input(\"Ingresa tu nombre: \")\n",
        "if nombre==\"Ana\":\n",
        "  print(\"Nos vemos\")\n",
        "elif nombre==\"Juan\":\n",
        "  print(\"Nos vemos\")\n",
        "elif nombre==\"Pedro\":\n",
        "  print(\"Nos vemos\")\n",
        "else:\n",
        "  print(\"Hola \" + nombre + \". Bienvenido una vez más\")"
      ],
      "metadata": {
        "id": "WFpzx0ygmfoG",
        "colab": {
          "base_uri": "https://localhost:8080/"
        },
        "outputId": "f5c40367-5d4d-405a-ec66-3d9d482f2898"
      },
      "execution_count": 1,
      "outputs": [
        {
          "output_type": "stream",
          "name": "stdout",
          "text": [
            "Ingresa tu nombre: Juan\n",
            "Nos vemos\n"
          ]
        }
      ]
    },
    {
      "cell_type": "code",
      "source": [
        "#2.- Desarrolla un algoritmo que por medio de una función, le pida al usuario una lista de N elementos y como resultado invierta el sentido de la lista.\n",
        "\n",
        "n=int(input (\"¿De que cantidad sera la lista?\"))\n",
        "lista=[]\n",
        "i=0\n",
        "x=0\n",
        "\n",
        "def funcion():\n",
        "   agregar=input(\"Agrega elemento: \")\n",
        "   lista.append(agregar)\n",
        "\n",
        "while i<n:\n",
        "   i+=1\n",
        "   funcion()\n",
        "while x<n:\n",
        "   x+=1\n",
        "   print(lista[-x])"
      ],
      "metadata": {
        "id": "niT-4v9ppg5K",
        "colab": {
          "base_uri": "https://localhost:8080/"
        },
        "outputId": "22855544-b195-4b06-c69b-0fc7a58ea184"
      },
      "execution_count": 2,
      "outputs": [
        {
          "output_type": "stream",
          "name": "stdout",
          "text": [
            "¿De que cantidad sera la lista?9\n",
            "Agrega elemento: 1\n",
            "Agrega elemento: 2\n",
            "Agrega elemento: 3\n",
            "Agrega elemento: 4\n",
            "Agrega elemento: 5\n",
            "Agrega elemento: 6\n",
            "Agrega elemento: 7\n",
            "Agrega elemento: 8\n",
            "Agrega elemento: 9\n",
            "9\n",
            "8\n",
            "7\n",
            "6\n",
            "5\n",
            "4\n",
            "3\n",
            "2\n",
            "1\n"
          ]
        }
      ]
    },
    {
      "cell_type": "code",
      "source": [
        "#3.- Desarrolla un algoritmo que le pregunte al usuario cuántos números de la serie de Fibonacci quiere generar y que al final los imprima.\n",
        "n=int(input(\"¿Cuántos números de la serie de Fibonacci quieres generar? \"))\n",
        "x=0\n",
        "serie=[0,1]\n",
        "print(serie[0])\n",
        "print(serie[1])\n",
        "t=n-2\n",
        "while t>x:\n",
        "  x+=1\n",
        "  num=serie[-1]+serie[-2]\n",
        "  serie.append(num)\n",
        "  print(num)"
      ],
      "metadata": {
        "colab": {
          "base_uri": "https://localhost:8080/"
        },
        "id": "ciSe5TSMf-B4",
        "outputId": "905219b7-52a3-4d0d-b5c6-f00d92016551"
      },
      "execution_count": 3,
      "outputs": [
        {
          "output_type": "stream",
          "name": "stdout",
          "text": [
            "¿Cuántos números de la serie de Fibonacci quieres generar? 12\n",
            "0\n",
            "1\n",
            "1\n",
            "2\n",
            "3\n",
            "5\n",
            "8\n",
            "13\n",
            "21\n",
            "34\n",
            "55\n",
            "89\n"
          ]
        }
      ]
    },
    {
      "cell_type": "code",
      "source": [
        "#4-. Juego de adivinar el número: Crea un programa que genere un número aleatorio entre 1 y 100, y luego le pida al usuario que adivine el número. El programa debe proporcionar pistas al usuario si el número es mayor o menor que el número objetivo, y seguir solicitando un nuevo intento hasta que el usuario adivine correctamente.\n",
        "\n",
        "import random\n",
        "\n",
        "num=random.randint(1, 100)\n",
        "#print(num)\n",
        "print(\"Juego donde tienes que leerle la mente a la computadora\")\n",
        "adivinar=int(input(\"Adivina el numero entre 1 y 100: \"))\n",
        "\n",
        "while num!=adivinar:\n",
        "  if adivinar>num:\n",
        "    print(\"Tu numero es mayor al de la computadora\")\n",
        "    adivinar=int(input(\"Adivina el numero entre 1 y 100: \"))\n",
        "  elif adivinar<num:\n",
        "    print(\"Tu numero es menor al de la computadora\")\n",
        "    adivinar=int(input(\"Adivina el numero entre 1 y 100: \"))\n",
        "\n",
        "if adivinar==num:\n",
        "  print(\"Correcto! Acabas de adivinar el numero y leerle la mente a la computadora\")\n"
      ],
      "metadata": {
        "id": "eSm8duDq9IPm",
        "colab": {
          "base_uri": "https://localhost:8080/"
        },
        "outputId": "5243c512-102f-4d5d-f86e-22ea9c328a21"
      },
      "execution_count": null,
      "outputs": [
        {
          "output_type": "stream",
          "name": "stdout",
          "text": [
            "Juego donde tienes que leerle la mente a la computadora\n",
            "Adivina el numero entre 1 y 100: 50\n",
            "Tu numero es menor al de la computadora\n",
            "Adivina el numero entre 1 y 100: 75\n",
            "Tu numero es menor al de la computadora\n",
            "Adivina el numero entre 1 y 100: 83\n",
            "Tu numero es menor al de la computadora\n",
            "Adivina el numero entre 1 y 100: 90\n",
            "Tu numero es menor al de la computadora\n",
            "Adivina el numero entre 1 y 100: 95\n",
            "Tu numero es menor al de la computadora\n",
            "Adivina el numero entre 1 y 100: 98\n",
            "Tu numero es menor al de la computadora\n",
            "Adivina el numero entre 1 y 100: 99\n",
            "Correcto! Acabas de adivinar el numero y leerle la mente a la computadora\n"
          ]
        }
      ]
    },
    {
      "cell_type": "code",
      "source": [
        "#5.- Ejercicio de cálculo de números primos en un rango dado: Escribe un programa que solicite al usuario un rango de números y muestre todos los números primos dentro de ese rango.\n",
        "\n",
        "def primo(n):\n",
        "    if n < 2:\n",
        "        return False\n",
        "    for i in range(2, int(n ** 0.5) + 1):\n",
        "        if n % i == 0:\n",
        "            return False\n",
        "    return True\n",
        "\n",
        "a = int(input(\"Ingresa el primer numero del rango: \"))\n",
        "b = int(input(\"Ingresa el segundo numero del rango: \"))\n",
        "\n",
        "primosrango = [n for n in range(a, b + 1) if primo(n)]\n",
        "\n",
        "print(\"Los numeros primos del rango son:\")\n",
        "print(primosrango)\n",
        "\n",
        "\n",
        "\n",
        "\n",
        "\n"
      ],
      "metadata": {
        "id": "Q6FTQHb09Ppd",
        "colab": {
          "base_uri": "https://localhost:8080/"
        },
        "outputId": "86e193ad-961b-4854-bf72-52b0ef75a6b4"
      },
      "execution_count": null,
      "outputs": [
        {
          "output_type": "stream",
          "name": "stdout",
          "text": [
            "Ingresa el primer numero del rango: 1\n",
            "Ingresa el segundo numero del rango: 100\n",
            "Los numeros primos del rango son:\n",
            "[2, 3, 5, 7, 11, 13, 17, 19, 23, 29, 31, 37, 41, 43, 47, 53, 59, 61, 67, 71, 73, 79, 83, 89, 97]\n"
          ]
        }
      ]
    },
    {
      "cell_type": "code",
      "source": [
        "#6.- Ejercicio de implementación de una calculadora básica utilizando funciones: Escribe un programa que solicite al usuario dos números y realice operaciones básicas como suma, resta, multiplicación y división utilizando funciones separadas para cada operación.\n",
        "\n",
        "x=int(input(\"Ingresa el primer numero a calcular: \"))\n",
        "y=int(input(\"Ingresa el segundo numero a calcular: \"))\n",
        "o=int(input(\"¿Qué operación eliges? 1.- Suma, 2.- Resta, 3.- Multipliación, 4.- División.  R= \"))\n",
        "\n",
        "def suma():\n",
        "  r=x+y\n",
        "  print(r)\n",
        "\n",
        "def resta():\n",
        "  r=x-y\n",
        "  print(r)\n",
        "\n",
        "def multiplicacion():\n",
        "  r=x*y\n",
        "  print(r)\n",
        "\n",
        "def division():\n",
        "  r=x/y\n",
        "  print(r)\n",
        "\n",
        "if o==1:\n",
        "  suma()\n",
        "elif o==2:\n",
        "  resta()\n",
        "elif o==3:\n",
        "  multiplicacion()\n",
        "elif o==4:\n",
        "  division()\n",
        "else:\n",
        "  print(\"error\")\n",
        "\n"
      ],
      "metadata": {
        "id": "DsLdB3_w9Wej",
        "colab": {
          "base_uri": "https://localhost:8080/"
        },
        "outputId": "3c0a8846-5171-407a-b798-25846aa5f77a"
      },
      "execution_count": null,
      "outputs": [
        {
          "output_type": "stream",
          "name": "stdout",
          "text": [
            "Ingresa el primer numero a calcular: 2\n",
            "Ingresa el segundo numero a calcular: 5\n",
            "¿Qué operación eliges? 1.- Suma, 2.- Resta, 3.- Multipliación, 4.- División.  R= 3\n",
            "10\n"
          ]
        }
      ]
    }
  ]
}