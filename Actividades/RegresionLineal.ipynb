{
  "nbformat": 4,
  "nbformat_minor": 0,
  "metadata": {
    "colab": {
      "provenance": [],
      "authorship_tag": "ABX9TyMieQblAoEvbFXWi53U7Fto",
      "include_colab_link": true
    },
    "kernelspec": {
      "name": "python3",
      "display_name": "Python 3"
    },
    "language_info": {
      "name": "python"
    }
  },
  "cells": [
    {
      "cell_type": "markdown",
      "metadata": {
        "id": "view-in-github",
        "colab_type": "text"
      },
      "source": [
        "<a href=\"https://colab.research.google.com/github/RicardoPerez04/2018947_RAPI/blob/main/Actividades/RegresionLineal.ipynb\" target=\"_parent\"><img src=\"https://colab.research.google.com/assets/colab-badge.svg\" alt=\"Open In Colab\"/></a>"
      ]
    },
    {
      "cell_type": "code",
      "execution_count": 100,
      "metadata": {
        "id": "xgAHQiScH8Zo"
      },
      "outputs": [],
      "source": [
        "#Actividad 3: Solución de problemas. Ricardo Abraham Pérez Ibarra. Matrícula: 2018947. Hora: N4\n"
      ]
    },
    {
      "cell_type": "code",
      "source": [
        "#Cargar librerías\n",
        "import matplotlib.pyplot as plt #gráficos\n",
        "import numpy as np #random\n",
        "import sklearn.linear_model #modelos de ML\n",
        "from sklearn.model_selection import train_test_split\n",
        "from sklearn.metrics import mean_squared_error"
      ],
      "metadata": {
        "id": "hHiXKhBKIjCo"
      },
      "execution_count": 101,
      "outputs": []
    },
    {
      "cell_type": "code",
      "source": [
        "#Cargar datos\n",
        "np.random.seed(0)\n",
        "horas_estudio = np.random.rand(100, 1) * 10\n",
        "calificaciones = 2 * horas_estudio + np.random.randn(100,1) * 2"
      ],
      "metadata": {
        "id": "FSwxZfVdI5DA"
      },
      "execution_count": 102,
      "outputs": []
    },
    {
      "cell_type": "code",
      "source": [
        "np.round(horas_estudio,2)"
      ],
      "metadata": {
        "colab": {
          "base_uri": "https://localhost:8080/"
        },
        "id": "kLd6xUxAeELM",
        "outputId": "e5311247-b21c-4ca4-9fc8-d68c3ded22d9"
      },
      "execution_count": 103,
      "outputs": [
        {
          "output_type": "execute_result",
          "data": {
            "text/plain": [
              "array([[5.49],\n",
              "       [7.15],\n",
              "       [6.03],\n",
              "       [5.45],\n",
              "       [4.24],\n",
              "       [6.46],\n",
              "       [4.38],\n",
              "       [8.92],\n",
              "       [9.64],\n",
              "       [3.83],\n",
              "       [7.92],\n",
              "       [5.29],\n",
              "       [5.68],\n",
              "       [9.26],\n",
              "       [0.71],\n",
              "       [0.87],\n",
              "       [0.2 ],\n",
              "       [8.33],\n",
              "       [7.78],\n",
              "       [8.7 ],\n",
              "       [9.79],\n",
              "       [7.99],\n",
              "       [4.61],\n",
              "       [7.81],\n",
              "       [1.18],\n",
              "       [6.4 ],\n",
              "       [1.43],\n",
              "       [9.45],\n",
              "       [5.22],\n",
              "       [4.15],\n",
              "       [2.65],\n",
              "       [7.74],\n",
              "       [4.56],\n",
              "       [5.68],\n",
              "       [0.19],\n",
              "       [6.18],\n",
              "       [6.12],\n",
              "       [6.17],\n",
              "       [9.44],\n",
              "       [6.82],\n",
              "       [3.6 ],\n",
              "       [4.37],\n",
              "       [6.98],\n",
              "       [0.6 ],\n",
              "       [6.67],\n",
              "       [6.71],\n",
              "       [2.1 ],\n",
              "       [1.29],\n",
              "       [3.15],\n",
              "       [3.64],\n",
              "       [5.7 ],\n",
              "       [4.39],\n",
              "       [9.88],\n",
              "       [1.02],\n",
              "       [2.09],\n",
              "       [1.61],\n",
              "       [6.53],\n",
              "       [2.53],\n",
              "       [4.66],\n",
              "       [2.44],\n",
              "       [1.59],\n",
              "       [1.1 ],\n",
              "       [6.56],\n",
              "       [1.38],\n",
              "       [1.97],\n",
              "       [3.69],\n",
              "       [8.21],\n",
              "       [0.97],\n",
              "       [8.38],\n",
              "       [0.96],\n",
              "       [9.76],\n",
              "       [4.69],\n",
              "       [9.77],\n",
              "       [6.05],\n",
              "       [7.39],\n",
              "       [0.39],\n",
              "       [2.83],\n",
              "       [1.2 ],\n",
              "       [2.96],\n",
              "       [1.19],\n",
              "       [3.18],\n",
              "       [4.14],\n",
              "       [0.64],\n",
              "       [6.92],\n",
              "       [5.67],\n",
              "       [2.65],\n",
              "       [5.23],\n",
              "       [0.94],\n",
              "       [5.76],\n",
              "       [9.29],\n",
              "       [3.19],\n",
              "       [6.67],\n",
              "       [1.32],\n",
              "       [7.16],\n",
              "       [2.89],\n",
              "       [1.83],\n",
              "       [5.87],\n",
              "       [0.2 ],\n",
              "       [8.29],\n",
              "       [0.05]])"
            ]
          },
          "metadata": {},
          "execution_count": 103
        }
      ]
    },
    {
      "cell_type": "code",
      "source": [
        "np.round(calificaciones,1)"
      ],
      "metadata": {
        "id": "oeBcvyeheedG",
        "colab": {
          "base_uri": "https://localhost:8080/"
        },
        "outputId": "ab31e3f3-ca00-489f-efe0-7dea96e5c83a"
      },
      "execution_count": 104,
      "outputs": [
        {
          "output_type": "execute_result",
          "data": {
            "text/plain": [
              "array([[ 8.6],\n",
              "       [16.1],\n",
              "       [13. ],\n",
              "       [ 7.8],\n",
              "       [11.4],\n",
              "       [16.7],\n",
              "       [11.1],\n",
              "       [17.5],\n",
              "       [17.1],\n",
              "       [ 9.8],\n",
              "       [15. ],\n",
              "       [13. ],\n",
              "       [11.8],\n",
              "       [20.5],\n",
              "       [ 2.1],\n",
              "       [ 3.2],\n",
              "       [ 0.4],\n",
              "       [20.2],\n",
              "       [15.8],\n",
              "       [18.2],\n",
              "       [23.3],\n",
              "       [13.3],\n",
              "       [ 6.7],\n",
              "       [17.5],\n",
              "       [ 0. ],\n",
              "       [16.7],\n",
              "       [ 2. ],\n",
              "       [17.4],\n",
              "       [14.3],\n",
              "       [11.3],\n",
              "       [ 9. ],\n",
              "       [17.3],\n",
              "       [ 7.4],\n",
              "       [15.2],\n",
              "       [-0.2],\n",
              "       [14. ],\n",
              "       [14.1],\n",
              "       [12. ],\n",
              "       [20.1],\n",
              "       [15.5],\n",
              "       [ 7.9],\n",
              "       [ 6.5],\n",
              "       [14.5],\n",
              "       [ 3.9],\n",
              "       [11.9],\n",
              "       [13.1],\n",
              "       [ 3.3],\n",
              "       [ 6.3],\n",
              "       [ 7.7],\n",
              "       [ 8.1],\n",
              "       [ 9.9],\n",
              "       [ 9.9],\n",
              "       [18.4],\n",
              "       [ 2.1],\n",
              "       [ 2.9],\n",
              "       [ 4.6],\n",
              "       [14.2],\n",
              "       [ 4.6],\n",
              "       [10.1],\n",
              "       [ 2.7],\n",
              "       [ 0.2],\n",
              "       [ 3.1],\n",
              "       [13.5],\n",
              "       [ 4. ],\n",
              "       [ 8.7],\n",
              "       [ 9.3],\n",
              "       [14.6],\n",
              "       [ 4.2],\n",
              "       [14.1],\n",
              "       [ 1. ],\n",
              "       [19.4],\n",
              "       [12.8],\n",
              "       [18. ],\n",
              "       [10.4],\n",
              "       [14.6],\n",
              "       [-0.5],\n",
              "       [ 7.9],\n",
              "       [ 0.2],\n",
              "       [ 3.6],\n",
              "       [ 1.5],\n",
              "       [ 5.4],\n",
              "       [12.1],\n",
              "       [ 3.2],\n",
              "       [14. ],\n",
              "       [ 8.9],\n",
              "       [ 7. ],\n",
              "       [ 8.5],\n",
              "       [-1.2],\n",
              "       [13.9],\n",
              "       [19.2],\n",
              "       [ 8.2],\n",
              "       [14. ],\n",
              "       [ 4.3],\n",
              "       [13. ],\n",
              "       [ 3.7],\n",
              "       [ 5. ],\n",
              "       [10.1],\n",
              "       [-1. ],\n",
              "       [15.7],\n",
              "       [ 0.1]])"
            ]
          },
          "metadata": {},
          "execution_count": 104
        }
      ]
    },
    {
      "cell_type": "code",
      "source": [
        "#Preprocesamiento de datos\n",
        "X_train, X_test, y_train, y_test = train_test_split (horas_estudio, calificaciones, test_size=0.2, random_state=0)"
      ],
      "metadata": {
        "id": "DqbZM4Vh7gnE"
      },
      "execution_count": 105,
      "outputs": []
    },
    {
      "cell_type": "code",
      "source": [
        "plt.scatter(X_train, y_train)\n",
        "plt.title('Datos de entrenamiento')\n",
        "plt.xlabel('horas de estudio')\n",
        "plt.ylabel('calificaciones')\n",
        "plt.show"
      ],
      "metadata": {
        "colab": {
          "base_uri": "https://localhost:8080/",
          "height": 642
        },
        "id": "D4tw0VpW1bbh",
        "outputId": "aa0a35bc-9938-4b41-e2ba-b6b5a8631296"
      },
      "execution_count": 106,
      "outputs": [
        {
          "output_type": "execute_result",
          "data": {
            "text/plain": [
              "<function matplotlib.pyplot.show(close=None, block=None)>"
            ],
            "text/html": [
              "<div style=\"max-width:800px; border: 1px solid var(--colab-border-color);\"><style>\n",
              "      pre.function-repr-contents {\n",
              "        overflow-x: auto;\n",
              "        padding: 8px 12px;\n",
              "        max-height: 500px;\n",
              "      }\n",
              "\n",
              "      pre.function-repr-contents.function-repr-contents-collapsed {\n",
              "        cursor: pointer;\n",
              "        max-height: 100px;\n",
              "      }\n",
              "    </style>\n",
              "    <pre style=\"white-space: initial; background:\n",
              "         var(--colab-secondary-surface-color); padding: 8px 12px;\n",
              "         border-bottom: 1px solid var(--colab-border-color);\"><b>matplotlib.pyplot.show</b><br/>def show(*args, **kwargs)</pre><pre class=\"function-repr-contents function-repr-contents-collapsed\" style=\"\"><a class=\"filepath\" style=\"display:none\" href=\"#\">/usr/local/lib/python3.10/dist-packages/matplotlib/pyplot.py</a>Display all open figures.\n",
              "\n",
              "Parameters\n",
              "----------\n",
              "block : bool, optional\n",
              "    Whether to wait for all figures to be closed before returning.\n",
              "\n",
              "    If `True` block and run the GUI main loop until all figure windows\n",
              "    are closed.\n",
              "\n",
              "    If `False` ensure that all figure windows are displayed and return\n",
              "    immediately.  In this case, you are responsible for ensuring\n",
              "    that the event loop is running to have responsive figures.\n",
              "\n",
              "    Defaults to True in non-interactive mode and to False in interactive\n",
              "    mode (see `.pyplot.isinteractive`).\n",
              "\n",
              "See Also\n",
              "--------\n",
              "ion : Enable interactive mode, which shows / updates the figure after\n",
              "      every plotting command, so that calling ``show()`` is not necessary.\n",
              "ioff : Disable interactive mode.\n",
              "savefig : Save the figure to an image file instead of showing it on screen.\n",
              "\n",
              "Notes\n",
              "-----\n",
              "**Saving figures to file and showing a window at the same time**\n",
              "\n",
              "If you want an image file as well as a user interface window, use\n",
              "`.pyplot.savefig` before `.pyplot.show`. At the end of (a blocking)\n",
              "``show()`` the figure is closed and thus unregistered from pyplot. Calling\n",
              "`.pyplot.savefig` afterwards would save a new and thus empty figure. This\n",
              "limitation of command order does not apply if the show is non-blocking or\n",
              "if you keep a reference to the figure and use `.Figure.savefig`.\n",
              "\n",
              "**Auto-show in jupyter notebooks**\n",
              "\n",
              "The jupyter backends (activated via ``%matplotlib inline``,\n",
              "``%matplotlib notebook``, or ``%matplotlib widget``), call ``show()`` at\n",
              "the end of every cell by default. Thus, you usually don&#x27;t have to call it\n",
              "explicitly there.</pre>\n",
              "      <script>\n",
              "      if (google.colab.kernel.accessAllowed && google.colab.files && google.colab.files.view) {\n",
              "        for (const element of document.querySelectorAll('.filepath')) {\n",
              "          element.style.display = 'block'\n",
              "          element.onclick = (event) => {\n",
              "            event.preventDefault();\n",
              "            event.stopPropagation();\n",
              "            google.colab.files.view(element.textContent, 401);\n",
              "          };\n",
              "        }\n",
              "      }\n",
              "      for (const element of document.querySelectorAll('.function-repr-contents')) {\n",
              "        element.onclick = (event) => {\n",
              "          event.preventDefault();\n",
              "          event.stopPropagation();\n",
              "          element.classList.toggle('function-repr-contents-collapsed');\n",
              "        };\n",
              "      }\n",
              "      </script>\n",
              "      </div>"
            ]
          },
          "metadata": {},
          "execution_count": 106
        },
        {
          "output_type": "display_data",
          "data": {
            "text/plain": [
              "<Figure size 640x480 with 1 Axes>"
            ],
            "image/png": "[encoded data removed]"
          },
          "metadata": {}
        }
      ]
    },
    {
      "cell_type": "code",
      "source": [
        "#Selección y entrenamiento del modelo.\n",
        "model = sklearn.linear_model.LinearRegression()"
      ],
      "metadata": {
        "id": "JSVlDDmg8ss6"
      },
      "execution_count": 107,
      "outputs": []
    },
    {
      "cell_type": "code",
      "source": [
        "model.fit(X_train, y_train)"
      ],
      "metadata": {
        "colab": {
          "base_uri": "https://localhost:8080/",
          "height": 75
        },
        "id": "yNMxYxkt8xoF",
        "outputId": "a213dc1d-dee5-4b8c-8a02-288181e3a286"
      },
      "execution_count": 108,
      "outputs": [
        {
          "output_type": "execute_result",
          "data": {
            "text/plain": [
              "LinearRegression()"
            ],
            "text/html": [
              "<style>#sk-container-id-6 {color: black;background-color: white;}#sk-container-id-6 pre{padding: 0;}#sk-container-id-6 div.sk-toggleable {background-color: white;}#sk-container-id-6 label.sk-toggleable__label {cursor: pointer;display: block;width: 100%;margin-bottom: 0;padding: 0.3em;box-sizing: border-box;text-align: center;}#sk-container-id-6 label.sk-toggleable__label-arrow:before {content: \"▸\";float: left;margin-right: 0.25em;color: #696969;}#sk-container-id-6 label.sk-toggleable__label-arrow:hover:before {color: black;}#sk-container-id-6 div.sk-estimator:hover label.sk-toggleable__label-arrow:before {color: black;}#sk-container-id-6 div.sk-toggleable__content {max-height: 0;max-width: 0;overflow: hidden;text-align: left;background-color: #f0f8ff;}#sk-container-id-6 div.sk-toggleable__content pre {margin: 0.2em;color: black;border-radius: 0.25em;background-color: #f0f8ff;}#sk-container-id-6 input.sk-toggleable__control:checked~div.sk-toggleable__content {max-height: 200px;max-width: 100%;overflow: auto;}#sk-container-id-6 input.sk-toggleable__control:checked~label.sk-toggleable__label-arrow:before {content: \"▾\";}#sk-container-id-6 div.sk-estimator input.sk-toggleable__control:checked~label.sk-toggleable__label {background-color: #d4ebff;}#sk-container-id-6 div.sk-label input.sk-toggleable__control:checked~label.sk-toggleable__label {background-color: #d4ebff;}#sk-container-id-6 input.sk-hidden--visually {border: 0;clip: rect(1px 1px 1px 1px);clip: rect(1px, 1px, 1px, 1px);height: 1px;margin: -1px;overflow: hidden;padding: 0;position: absolute;width: 1px;}#sk-container-id-6 div.sk-estimator {font-family: monospace;background-color: #f0f8ff;border: 1px dotted black;border-radius: 0.25em;box-sizing: border-box;margin-bottom: 0.5em;}#sk-container-id-6 div.sk-estimator:hover {background-color: #d4ebff;}#sk-container-id-6 div.sk-parallel-item::after {content: \"\";width: 100%;border-bottom: 1px solid gray;flex-grow: 1;}#sk-container-id-6 div.sk-label:hover label.sk-toggleable__label {background-color: #d4ebff;}#sk-container-id-6 div.sk-serial::before {content: \"\";position: absolute;border-left: 1px solid gray;box-sizing: border-box;top: 0;bottom: 0;left: 50%;z-index: 0;}#sk-container-id-6 div.sk-serial {display: flex;flex-direction: column;align-items: center;background-color: white;padding-right: 0.2em;padding-left: 0.2em;position: relative;}#sk-container-id-6 div.sk-item {position: relative;z-index: 1;}#sk-container-id-6 div.sk-parallel {display: flex;align-items: stretch;justify-content: center;background-color: white;position: relative;}#sk-container-id-6 div.sk-item::before, #sk-container-id-6 div.sk-parallel-item::before {content: \"\";position: absolute;border-left: 1px solid gray;box-sizing: border-box;top: 0;bottom: 0;left: 50%;z-index: -1;}#sk-container-id-6 div.sk-parallel-item {display: flex;flex-direction: column;z-index: 1;position: relative;background-color: white;}#sk-container-id-6 div.sk-parallel-item:first-child::after {align-self: flex-end;width: 50%;}#sk-container-id-6 div.sk-parallel-item:last-child::after {align-self: flex-start;width: 50%;}#sk-container-id-6 div.sk-parallel-item:only-child::after {width: 0;}#sk-container-id-6 div.sk-dashed-wrapped {border: 1px dashed gray;margin: 0 0.4em 0.5em 0.4em;box-sizing: border-box;padding-bottom: 0.4em;background-color: white;}#sk-container-id-6 div.sk-label label {font-family: monospace;font-weight: bold;display: inline-block;line-height: 1.2em;}#sk-container-id-6 div.sk-label-container {text-align: center;}#sk-container-id-6 div.sk-container {/* jupyter's `normalize.less` sets `[hidden] { display: none; }` but bootstrap.min.css set `[hidden] { display: none !important; }` so we also need the `!important` here to be able to override the default hidden behavior on the sphinx rendered scikit-learn.org. See: https://github.com/scikit-learn/scikit-learn/issues/21755 */display: inline-block !important;position: relative;}#sk-container-id-6 div.sk-text-repr-fallback {display: none;}</style><div id=\"sk-container-id-6\" class=\"sk-top-container\"><div class=\"sk-text-repr-fallback\"><pre>LinearRegression()</pre><b>In a Jupyter environment, please rerun this cell to show the HTML representation or trust the notebook. <br />On GitHub, the HTML representation is unable to render, please try loading this page with nbviewer.org.</b></div><div class=\"sk-container\" hidden><div class=\"sk-item\"><div class=\"sk-estimator sk-toggleable\"><input class=\"sk-toggleable__control sk-hidden--visually\" id=\"sk-estimator-id-6\" type=\"checkbox\" checked><label for=\"sk-estimator-id-6\" class=\"sk-toggleable__label sk-toggleable__label-arrow\">LinearRegression</label><div class=\"sk-toggleable__content\"><pre>LinearRegression()</pre></div></div></div></div></div>"
            ]
          },
          "metadata": {},
          "execution_count": 108
        }
      ]
    },
    {
      "cell_type": "code",
      "source": [
        "#Prueba de modelo\n",
        "prediccion = model.predict(X_test)"
      ],
      "metadata": {
        "id": "-IL0VnAa85CY"
      },
      "execution_count": 109,
      "outputs": []
    },
    {
      "cell_type": "code",
      "source": [
        "np.round(prediccion,2)"
      ],
      "metadata": {
        "colab": {
          "base_uri": "https://localhost:8080/"
        },
        "id": "9qdikPNI9mKK",
        "outputId": "df1044c6-feca-4cae-e32f-526228c4cbb6"
      },
      "execution_count": 110,
      "outputs": [
        {
          "output_type": "execute_result",
          "data": {
            "text/plain": [
              "array([[ 3.48],\n",
              "       [10.98],\n",
              "       [12.55],\n",
              "       [ 3.83],\n",
              "       [ 1.42],\n",
              "       [14.79],\n",
              "       [ 1.04],\n",
              "       [12.59],\n",
              "       [ 4.77],\n",
              "       [ 4.26],\n",
              "       [ 2.66],\n",
              "       [ 3.25],\n",
              "       [ 6.49],\n",
              "       [18.92],\n",
              "       [18.25],\n",
              "       [ 5.87],\n",
              "       [ 9.76],\n",
              "       [ 2.98],\n",
              "       [11.87],\n",
              "       [19.67]])"
            ]
          },
          "metadata": {},
          "execution_count": 110
        }
      ]
    },
    {
      "cell_type": "code",
      "source": [
        "plt.scatter(X_test, y_test, color=\"yellow\", label=\"Datos de prueba\")\n",
        "plt.plot(X_test, prediccion, color='blue', linewidth=2, label=\"Prediccion del modelo lineal\")\n",
        "plt.legend()\n",
        "plt.title('Actividad 3')\n",
        "plt.xlabel('horas de estudio')\n",
        "plt.ylabel('calificaciones')\n",
        "plt.show"
      ],
      "metadata": {
        "colab": {
          "base_uri": "https://localhost:8080/",
          "height": 642
        },
        "id": "fB1eQINl_w7S",
        "outputId": "4fd22ff2-0f87-4ccd-a391-f76bf4ba2970"
      },
      "execution_count": 111,
      "outputs": [
        {
          "output_type": "execute_result",
          "data": {
            "text/plain": [
              "<function matplotlib.pyplot.show(close=None, block=None)>"
            ],
            "text/html": [
              "<div style=\"max-width:800px; border: 1px solid var(--colab-border-color);\"><style>\n",
              "      pre.function-repr-contents {\n",
              "        overflow-x: auto;\n",
              "        padding: 8px 12px;\n",
              "        max-height: 500px;\n",
              "      }\n",
              "\n",
              "      pre.function-repr-contents.function-repr-contents-collapsed {\n",
              "        cursor: pointer;\n",
              "        max-height: 100px;\n",
              "      }\n",
              "    </style>\n",
              "    <pre style=\"white-space: initial; background:\n",
              "         var(--colab-secondary-surface-color); padding: 8px 12px;\n",
              "         border-bottom: 1px solid var(--colab-border-color);\"><b>matplotlib.pyplot.show</b><br/>def show(*args, **kwargs)</pre><pre class=\"function-repr-contents function-repr-contents-collapsed\" style=\"\"><a class=\"filepath\" style=\"display:none\" href=\"#\">/usr/local/lib/python3.10/dist-packages/matplotlib/pyplot.py</a>Display all open figures.\n",
              "\n",
              "Parameters\n",
              "----------\n",
              "block : bool, optional\n",
              "    Whether to wait for all figures to be closed before returning.\n",
              "\n",
              "    If `True` block and run the GUI main loop until all figure windows\n",
              "    are closed.\n",
              "\n",
              "    If `False` ensure that all figure windows are displayed and return\n",
              "    immediately.  In this case, you are responsible for ensuring\n",
              "    that the event loop is running to have responsive figures.\n",
              "\n",
              "    Defaults to True in non-interactive mode and to False in interactive\n",
              "    mode (see `.pyplot.isinteractive`).\n",
              "\n",
              "See Also\n",
              "--------\n",
              "ion : Enable interactive mode, which shows / updates the figure after\n",
              "      every plotting command, so that calling ``show()`` is not necessary.\n",
              "ioff : Disable interactive mode.\n",
              "savefig : Save the figure to an image file instead of showing it on screen.\n",
              "\n",
              "Notes\n",
              "-----\n",
              "**Saving figures to file and showing a window at the same time**\n",
              "\n",
              "If you want an image file as well as a user interface window, use\n",
              "`.pyplot.savefig` before `.pyplot.show`. At the end of (a blocking)\n",
              "``show()`` the figure is closed and thus unregistered from pyplot. Calling\n",
              "`.pyplot.savefig` afterwards would save a new and thus empty figure. This\n",
              "limitation of command order does not apply if the show is non-blocking or\n",
              "if you keep a reference to the figure and use `.Figure.savefig`.\n",
              "\n",
              "**Auto-show in jupyter notebooks**\n",
              "\n",
              "The jupyter backends (activated via ``%matplotlib inline``,\n",
              "``%matplotlib notebook``, or ``%matplotlib widget``), call ``show()`` at\n",
              "the end of every cell by default. Thus, you usually don&#x27;t have to call it\n",
              "explicitly there.</pre>\n",
              "      <script>\n",
              "      if (google.colab.kernel.accessAllowed && google.colab.files && google.colab.files.view) {\n",
              "        for (const element of document.querySelectorAll('.filepath')) {\n",
              "          element.style.display = 'block'\n",
              "          element.onclick = (event) => {\n",
              "            event.preventDefault();\n",
              "            event.stopPropagation();\n",
              "            google.colab.files.view(element.textContent, 401);\n",
              "          };\n",
              "        }\n",
              "      }\n",
              "      for (const element of document.querySelectorAll('.function-repr-contents')) {\n",
              "        element.onclick = (event) => {\n",
              "          event.preventDefault();\n",
              "          event.stopPropagation();\n",
              "          element.classList.toggle('function-repr-contents-collapsed');\n",
              "        };\n",
              "      }\n",
              "      </script>\n",
              "      </div>"
            ]
          },
          "metadata": {},
          "execution_count": 111
        },
        {
          "output_type": "display_data",
          "data": {
            "text/plain": [
              "<Figure size 640x480 with 1 Axes>"
            ],
            "image/png": "[encoded data removed]"
          },
          "metadata": {}
        }
      ]
    },
    {
      "cell_type": "code",
      "source": [
        "print(\"El error cuadratico medio de este sistema es: \", round(mean_squared_error(y_test, prediccion),2))"
      ],
      "metadata": {
        "colab": {
          "base_uri": "https://localhost:8080/"
        },
        "id": "4IhFOnDRCmWS",
        "outputId": "4225fea3-9641-417c-d438-4d85047e0507"
      },
      "execution_count": 112,
      "outputs": [
        {
          "output_type": "stream",
          "name": "stdout",
          "text": [
            "El error cuadratico medio de este sistema es:  4.17\n"
          ]
        }
      ]
    }
  ]
}